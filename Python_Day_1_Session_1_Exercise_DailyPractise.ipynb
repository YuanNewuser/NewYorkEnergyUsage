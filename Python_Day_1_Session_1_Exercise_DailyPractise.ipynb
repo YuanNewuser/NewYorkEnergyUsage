{
  "nbformat": 4,
  "nbformat_minor": 0,
  "metadata": {
    "colab": {
      "provenance": [],
      "authorship_tag": "ABX9TyMMOfJRocqlVxwWBSjuIUjN",
      "include_colab_link": true
    },
    "kernelspec": {
      "name": "python3",
      "display_name": "Python 3"
    },
    "language_info": {
      "name": "python"
    }
  },
  "cells": [
    {
      "cell_type": "markdown",
      "metadata": {
        "id": "view-in-github",
        "colab_type": "text"
      },
      "source": [
        "<a href=\"https://colab.research.google.com/github/YuanNewuser/NewYorkEnergyUsage/blob/main/Python_Day_1_Session_1_Exercise_DailyPractise.ipynb\" target=\"_parent\"><img src=\"https://colab.research.google.com/assets/colab-badge.svg\" alt=\"Open In Colab\"/></a>"
      ]
    },
    {
      "cell_type": "markdown",
      "source": [
        "Question 1\n",
        "The following table shows the first 5 lines of myData and contains the purchase amount (PurchAmount) and cost (Cost) for different customer ids (Customer). Both PurchAmount and Cost are numeric columns.\n",
        "\n",
        "Customer\tPurchAmount\tCost\n",
        "149332\t15\t6\n",
        "172951\t13\t1\n",
        "120621\t18\t7\n",
        "149236\t14\t8\n",
        "119236\t16\t4\n",
        "…\t…\t…\n",
        "\n",
        "To generate the entire table myData in Python, please run the following code:\n",
        "```\n",
        "import pandas as pd\n",
        "data = {'Customer':[149332,172951,120621,149236,119236,119237,119286,119299,119300,119301,119402,119405,119406,119510,119511],\n",
        "        'PurchAmount':[15,13,18,14,16,15,15,14,15,18,18,12,11,14,16],\n",
        "        'Cost':[6,1,7,8,4,5,7,3,5,1,3,4,2,5,1]\n",
        "         }\n",
        "myData = pd.DataFrame(data, columns=[\"Customer\", \"PurchAmount\", \"Cost\"])\n",
        "```\n",
        "Use the describe() function on the data. What is value of the 25% quantile of the PurchAmount column? Round to the second decimal place.\n",
        "\n",
        "a. 15.00\n",
        "\n",
        "b. 14.00\n",
        "\n",
        "c. 16.00\n",
        "\n",
        "\n",
        "d. 13.00\n",
        "\n",
        "\n",
        "e. 13.50\n",
        "\n",
        "\n",
        "f. 16.00\n"
      ],
      "metadata": {
        "id": "BglfaZ6fjwL1"
      }
    },
    {
      "cell_type": "code",
      "source": [
        "import pandas as pd\n",
        "\n",
        "data = {'Customer':[149332,172951,120621,149236,119236,119237,119286,119299,119300,119301,119402,119405,119406,119510,119511],\n",
        "        'PurchAmount':[11,15,17,14,13,18,18,17,14,16,16,16,19,19,11],\n",
        "        'Cost':[3,5,4,9,3,3,8,7,9,9,5,5,6,1,4]\n",
        "}\n",
        "\n",
        "myData = pd.DataFrame(data, columns=[\"Customer\", \"PurchAmount\", \"Cost\"])\n",
        "\n",
        "\n",
        "describe(myData)\n",
        "\n",
        "# Calculate the 25th percentile of the 'PurchAmount' column\n",
        "quantile_25 = myData['PurchAmount'].quantile(0.25)\n",
        "\n",
        "# Round the result to the second decimal place\n",
        "quantile_25_rounded = round(quantile_25, 2)\n",
        "\n",
        "print(quantile_25_rounded)\n"
      ],
      "metadata": {
        "colab": {
          "base_uri": "https://localhost:8080/"
        },
        "id": "9V3OvFhdjw1y",
        "outputId": "65fa659d-c9ca-4ff8-e0c4-1aada47381c3"
      },
      "execution_count": 2,
      "outputs": [
        {
          "output_type": "stream",
          "name": "stdout",
          "text": [
            "14.0\n"
          ]
        }
      ]
    },
    {
      "cell_type": "code",
      "source": [],
      "metadata": {
        "id": "2TrRyBrsmUxT"
      },
      "execution_count": null,
      "outputs": []
    },
    {
      "cell_type": "markdown",
      "source": [
        "Question 2\n",
        "The following table shows the first 5 lines of myData and contains the purchase amount (PurchAmount) and cost (Cost) for different customer ids (Customer). Both PurchAmount and Cost are numeric columns.\n",
        "\n",
        "Customer\tPurchAmount\tCost\n",
        "149332\t16\t2\n",
        "172951\t16\t1\n",
        "120621\t12\t9\n",
        "149236\t17\t4\n",
        "119236\t13\t9\n",
        "…\t…\t…\n",
        "\n",
        "To generate the entire table myData in Python, please run the following code:\n",
        "```\n",
        "import pandas as pd\n",
        "data = {'Customer':[149332,172951,120621,149236,119236,119237,119286,119299,119300,119301,119402,119405,119406,119510,119511],\n",
        "        'PurchAmount':[16,16,12,17,13,15,18,18,13,14,11,13,19,16,11],\n",
        "        'Cost':[2,1,9,4,9,6,7,4,1,9,9,2,5,5,6]\n",
        "         }\n",
        "myData = pd.DataFrame(data, columns=[\"Customer\", \"PurchAmount\", \"Cost\"])\n",
        "```\n",
        "Which is the mean of the Cost column? Round to the second decimal place.\n",
        "\n",
        "\n",
        "a. 5.52\n",
        "\n",
        "\n",
        "b. 7.27\n",
        "\n",
        "\n",
        "c. 5.27\n",
        "\n",
        "\n",
        "d. 4.27\n",
        "\n",
        "\n",
        "e. 5.12\n",
        "\n",
        "\n",
        "f. 6.32\n",
        "\n"
      ],
      "metadata": {
        "id": "5tytIl0XjgMy"
      }
    },
    {
      "cell_type": "code",
      "source": [
        "import pandas as pd\n",
        "\n",
        "data = {'Customer':[149332,172951,120621,149236,119236,119237,119286,119299,119300,119301,119402,119405,119406,119510,119511],\n",
        "        'PurchAmount':[16,16,12,17,13,15,18,18,13,14,11,13,19,16,11],\n",
        "        'Cost':[2,1,9,4,9,6,7,4,1,9,9,2,5,5,6]\n",
        "}\n",
        "\n",
        "myData = pd.DataFrame(data, columns=[\"Customer\", \"PurchAmount\", \"Cost\"])\n",
        "\n",
        "# Calculate the mean of the 'Cost' column\n",
        "mean_cost = myData['Cost'].mean()\n",
        "\n",
        "# Round the mean to the second decimal place\n",
        "mean_cost_rounded = round(mean_cost, 2)\n",
        "\n",
        "print(mean_cost_rounded)"
      ],
      "metadata": {
        "colab": {
          "base_uri": "https://localhost:8080/"
        },
        "id": "kmdzc6dLjaTV",
        "outputId": "dc2dcad8-bcbc-4459-9672-dd55743c616a"
      },
      "execution_count": 1,
      "outputs": [
        {
          "output_type": "stream",
          "name": "stdout",
          "text": [
            "5.27\n"
          ]
        }
      ]
    }
  ]
}